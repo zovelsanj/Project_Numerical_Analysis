{
 "cells": [
  {
   "cell_type": "code",
   "execution_count": 2,
   "metadata": {},
   "outputs": [],
   "source": [
    "import bilby"
   ]
  },
  {
   "cell_type": "code",
   "execution_count": 3,
   "metadata": {},
   "outputs": [
    {
     "data": {
      "text/plain": [
       "'1.1.2: release'"
      ]
     },
     "execution_count": 3,
     "metadata": {},
     "output_type": "execute_result"
    }
   ],
   "source": [
    "bilby.__version__\n"
   ]
  },
  {
   "cell_type": "code",
   "execution_count": 4,
   "metadata": {},
   "outputs": [
    {
     "ename": "AttributeError",
     "evalue": "module 'bilby.gw.detector' has no attribute 'get_event_data'",
     "output_type": "error",
     "traceback": [
      "\u001b[0;31m---------------------------------------------------------------------------\u001b[0m",
      "\u001b[0;31mAttributeError\u001b[0m                            Traceback (most recent call last)",
      "\u001b[0;32m<ipython-input-4-0011426451dd>\u001b[0m in \u001b[0;36m<module>\u001b[0;34m\u001b[0m\n\u001b[0;32m----> 1\u001b[0;31m \u001b[0minterferometers\u001b[0m \u001b[0;34m=\u001b[0m \u001b[0mbilby\u001b[0m\u001b[0;34m.\u001b[0m\u001b[0mgw\u001b[0m\u001b[0;34m.\u001b[0m\u001b[0mdetector\u001b[0m\u001b[0;34m.\u001b[0m\u001b[0mget_event_data\u001b[0m\u001b[0;34m(\u001b[0m\u001b[0;34m\"GW150914\"\u001b[0m\u001b[0;34m)\u001b[0m\u001b[0;34m\u001b[0m\u001b[0;34m\u001b[0m\u001b[0m\n\u001b[0m",
      "\u001b[0;31mAttributeError\u001b[0m: module 'bilby.gw.detector' has no attribute 'get_event_data'"
     ]
    }
   ],
   "source": [
    "interferometers = bilby.gw.detector.get_event_data(\"GW150914\")"
   ]
  },
  {
   "cell_type": "code",
   "execution_count": null,
   "metadata": {},
   "outputs": [],
   "source": [
    "prior = bilby.gw.prior.BBHPriorDict()\n",
    "time_of_event = 1126259462.4\n",
    "\n",
    "# help(prior)\n",
    "# from bilby.core.prior import Uniform\n",
    "# import numpy as np\n",
    "\n",
    "# prior = bilby.core.prior.PriorDict()\n",
    "# prior['chirp_mass'] = Uniform(name='chirp_mass', minimum=30.0,maximum=32.5)\n",
    "# prior['mass_ratio'] = Uniform(name='mass_ratio', minimum=0.5, maximum=1)\n",
    "# prior['phase'] = Uniform(name=\"phase\", minimum=0, maximum=2*np.pi)\n",
    "prior['geocent_time'] = Uniform(name=\"geocent_time\", minimum=time_of_event-0.1, maximum=time_of_event+0.1)\n",
    "# prior['a_1'] =  0.0\n",
    "# prior['a_2'] =  0.0\n",
    "# prior['tilt_1'] =  0.0\n",
    "# prior['tilt_2'] =  0.0\n",
    "# prior['phi_12'] =  0.0\n",
    "# prior['phi_jl'] =  0.0\n",
    "# prior['dec'] =  -1.2232\n",
    "# prior['ra'] =  2.19432\n",
    "# prior['theta_jn'] =  1.89694\n",
    "# prior['psi'] =  0.532268\n",
    "# prior['luminosity_distance'] = 412.066\n",
    "# prior['mass_2'] = bilby.gw.prior.Constraint(minimum=10, maximum=80, name='mass_2', latex_label='$m_2$', unit=None)  "
   ]
  },
  {
   "cell_type": "code",
   "execution_count": null,
   "metadata": {},
   "outputs": [],
   "source": [
    "likelihood = bilby.gw.likelihood.get_binary_black_hole_likelihood(interferometers)\n"
   ]
  },
  {
   "cell_type": "code",
   "execution_count": null,
   "metadata": {},
   "outputs": [],
   "source": [
    " result = bilby.core.sampler.run_sampler(likelihood,prior) \n",
    "# help(bilby.core.sampler.run_sampler)"
   ]
  },
  {
   "cell_type": "code",
   "execution_count": null,
   "metadata": {},
   "outputs": [],
   "source": [
    "result.plot_corner()"
   ]
  },
  {
   "cell_type": "code",
   "execution_count": 3,
   "metadata": {},
   "outputs": [],
   "source": [
    "import numpy as np"
   ]
  },
  {
   "cell_type": "code",
   "execution_count": 4,
   "metadata": {},
   "outputs": [
    {
     "data": {
      "text/plain": [
       "'/home/naresh'"
      ]
     },
     "execution_count": 4,
     "metadata": {},
     "output_type": "execute_result"
    }
   ],
   "source": [
    "pwd"
   ]
  },
  {
   "cell_type": "code",
   "execution_count": 5,
   "metadata": {},
   "outputs": [
    {
     "name": "stdout",
     "output_type": "stream",
     "text": [
      " \u001b[0m\u001b[01;34manaconda3\u001b[0m/                                \u001b[01;34moutdir\u001b[0m/\r\n",
      " \u001b[01;32ma.out\u001b[0m*                                    \u001b[01;34moutdir1\u001b[0m/\r\n",
      " \u001b[01;32mastrops11.py\u001b[0m*                             Physics718-PS1.ipynb\r\n",
      " bayesian-inference-bilby-GW150914.ipynb   Physics718-PS4-4b.py\r\n",
      " \u001b[01;34mbilby\u001b[0m/                                    Physics718-PS4-5.py\r\n",
      " blockchain                                \u001b[01;34mPictures\u001b[0m/\r\n",
      " cit_jobs_webdir                           ppdot.dat\r\n",
      " cr_data.txt                               ps4.py\r\n",
      "\u001b[01;34m'Data analysis'\u001b[0m/                           ps5-1c.py\r\n",
      " data_analysis.ipynb                       ps5-5.py\r\n",
      " \u001b[01;34mDesktop\u001b[0m/                                  \u001b[01;34mPublic\u001b[0m/\r\n",
      " \u001b[01;34mDocuments\u001b[0m/                               'pycharm cmd'\r\n",
      " \u001b[01;34mDownloads\u001b[0m/                                \u001b[01;34mPycharmProjects\u001b[0m/\r\n",
      " firstprog.cc                             'python for data analysis.ipynb'\r\n",
      " GW150914_chirp_prior.ipynb                rochelobeapprox.py\r\n",
      " GW150914prior.ipynb                       \u001b[01;34msnap\u001b[0m/\r\n",
      " GW170818.ipynb                            \u001b[01;32mSysCheck\u001b[0m*\r\n",
      " GW190521_posterior_samples.ipynb          system_commands.cc\r\n",
      " hello.cc                                  \u001b[01;34mTeamSpeak3-Client-linux_amd64\u001b[0m/\r\n",
      " HelloWorld.java                           teamspeak-key.txt\r\n",
      " id_rsa                                    \u001b[01;34mTemplates\u001b[0m/\r\n",
      " id_rsa.pub                                texput.log\r\n",
      " kaggle-python.py                         'TOV equation.ipynb'\r\n",
      " \u001b[01;34mligo-git\u001b[0m/                                 \u001b[01;34mVideos\u001b[0m/\r\n",
      " \u001b[01;34mMusic\u001b[0m/                                    xml_file_read\r\n",
      " night-parking-cite.pdf                    xmlread\r\n",
      " \u001b[01;34modw-2020\u001b[0m/\r\n"
     ]
    }
   ],
   "source": [
    "ls\n"
   ]
  },
  {
   "cell_type": "code",
   "execution_count": 6,
   "metadata": {},
   "outputs": [
    {
     "name": "stdout",
     "output_type": "stream",
     "text": [
      "/home/naresh/outdir\n"
     ]
    }
   ],
   "source": [
    "cd outdir/"
   ]
  },
  {
   "cell_type": "code",
   "execution_count": 7,
   "metadata": {},
   "outputs": [
    {
     "name": "stdout",
     "output_type": "stream",
     "text": [
      "bns_eos_example.log                    GW190521_resume.pickle\r\n",
      "\u001b[0m\u001b[01;35mgaussian_example_checkpoint_trace.png\u001b[0m  H1_1126258440.4_1126258540.4.txt\r\n",
      "\u001b[01;35mgaussian_example_corner.png\u001b[0m            H1_1126259460.4_1126259464.4.txt\r\n",
      "gaussian_example_dynesty.pickle        \u001b[01;35mH1_frequency_domain_data.png\u001b[0m\r\n",
      "gaussian_example_result.json           \u001b[01;35mH1_GW150914_frequency_domain_data.png\u001b[0m\r\n",
      "gaussian_example_resume.pickle         \u001b[01;35mH1_GW170818_frequency_domain_data.png\u001b[0m\r\n",
      "\u001b[01;35mGW150914_checkpoint_trace.png\u001b[0m          \u001b[01;35mH1_GW190521_frequency_domain_data.png\u001b[0m\r\n",
      "GW150914_chirpprior.log                H1_PSD_1126258440.3999023_100.0.txt\r\n",
      "\u001b[01;35mGW150914_corner.png\u001b[0m                    L1_1126258440.4_1126258540.4.txt\r\n",
      "GW150914_dynesty.pickle                L1_1126259460.4_1126259464.4.txt\r\n",
      "GW150914.log                           \u001b[01;35mL1_frequency_domain_data.png\u001b[0m\r\n",
      "GW150914_result.json                   \u001b[01;35mL1_GW150914_frequency_domain_data.png\u001b[0m\r\n",
      "GW150914_result.json.old               \u001b[01;35mL1_GW170818_frequency_domain_data.png\u001b[0m\r\n",
      "GW150914_resume.pickle                 \u001b[01;35mL1_GW190521_frequency_domain_data.png\u001b[0m\r\n",
      "GW170818.log                           L1_PSD_1126258440.3999023_100.0.txt\r\n",
      "\u001b[01;35mGW190521_checkpoint_trace.png\u001b[0m          \u001b[01;35mlabel_checkpoint_trace.png\u001b[0m\r\n",
      "\u001b[01;35mGW190521_corner.png\u001b[0m                    \u001b[01;35mlabel_corner.png\u001b[0m\r\n",
      "GW190521_dynesty.pickle                label_dynesty.pickle\r\n",
      "GW190521_result.json                   label_result.json\r\n",
      "GW190521_result.json.old               label_resume.pickle\r\n"
     ]
    }
   ],
   "source": [
    "ls\n"
   ]
  },
  {
   "cell_type": "code",
   "execution_count": 9,
   "metadata": {},
   "outputs": [],
   "source": [
    "result0 = bilby.result.read_in_result(filename = '/home/naresh/outdir/label_result.json')"
   ]
  },
  {
   "cell_type": "code",
   "execution_count": 10,
   "metadata": {},
   "outputs": [
    {
     "data": {
      "text/plain": [
       "<bilby.core.result.Result at 0x7f78ff140fd0>"
      ]
     },
     "execution_count": 10,
     "metadata": {},
     "output_type": "execute_result"
    }
   ],
   "source": [
    "result0"
   ]
  },
  {
   "cell_type": "code",
   "execution_count": 13,
   "metadata": {},
   "outputs": [
    {
     "data": {
      "text/html": [
       "<div>\n",
       "<style scoped>\n",
       "    .dataframe tbody tr th:only-of-type {\n",
       "        vertical-align: middle;\n",
       "    }\n",
       "\n",
       "    .dataframe tbody tr th {\n",
       "        vertical-align: top;\n",
       "    }\n",
       "\n",
       "    .dataframe thead th {\n",
       "        text-align: right;\n",
       "    }\n",
       "</style>\n",
       "<table border=\"1\" class=\"dataframe\">\n",
       "  <thead>\n",
       "    <tr style=\"text-align: right;\">\n",
       "      <th></th>\n",
       "      <th>mass_1</th>\n",
       "      <th>mass_2</th>\n",
       "      <th>a_1</th>\n",
       "      <th>a_2</th>\n",
       "      <th>tilt_1</th>\n",
       "      <th>tilt_2</th>\n",
       "      <th>phi_12</th>\n",
       "      <th>phi_jl</th>\n",
       "      <th>luminosity_distance</th>\n",
       "      <th>dec</th>\n",
       "      <th>ra</th>\n",
       "      <th>theta_jn</th>\n",
       "      <th>psi</th>\n",
       "      <th>phase</th>\n",
       "      <th>geocent_time</th>\n",
       "      <th>log_likelihood</th>\n",
       "      <th>log_prior</th>\n",
       "    </tr>\n",
       "  </thead>\n",
       "  <tbody>\n",
       "    <tr>\n",
       "      <th>0</th>\n",
       "      <td>37.531558</td>\n",
       "      <td>36.923023</td>\n",
       "      <td>0.450124</td>\n",
       "      <td>0.728797</td>\n",
       "      <td>2.301996</td>\n",
       "      <td>0.816976</td>\n",
       "      <td>0.030900</td>\n",
       "      <td>3.621868</td>\n",
       "      <td>509.999301</td>\n",
       "      <td>-1.154522</td>\n",
       "      <td>2.246389</td>\n",
       "      <td>0.787346</td>\n",
       "      <td>0.010705</td>\n",
       "      <td>4.484531</td>\n",
       "      <td>1.126259e+09</td>\n",
       "      <td>292.749045</td>\n",
       "      <td>-30.506807</td>\n",
       "    </tr>\n",
       "    <tr>\n",
       "      <th>1</th>\n",
       "      <td>41.380716</td>\n",
       "      <td>31.485215</td>\n",
       "      <td>0.653987</td>\n",
       "      <td>0.616770</td>\n",
       "      <td>1.002285</td>\n",
       "      <td>3.026669</td>\n",
       "      <td>2.573831</td>\n",
       "      <td>0.044776</td>\n",
       "      <td>561.699524</td>\n",
       "      <td>-0.984151</td>\n",
       "      <td>2.496110</td>\n",
       "      <td>0.620445</td>\n",
       "      <td>1.084561</td>\n",
       "      <td>0.274235</td>\n",
       "      <td>1.126259e+09</td>\n",
       "      <td>293.680207</td>\n",
       "      <td>-31.966960</td>\n",
       "    </tr>\n",
       "    <tr>\n",
       "      <th>2</th>\n",
       "      <td>45.359448</td>\n",
       "      <td>36.604768</td>\n",
       "      <td>0.546921</td>\n",
       "      <td>0.166479</td>\n",
       "      <td>0.688618</td>\n",
       "      <td>1.031129</td>\n",
       "      <td>3.770140</td>\n",
       "      <td>5.522815</td>\n",
       "      <td>336.060397</td>\n",
       "      <td>-1.228126</td>\n",
       "      <td>1.764072</td>\n",
       "      <td>1.419410</td>\n",
       "      <td>2.089572</td>\n",
       "      <td>0.238803</td>\n",
       "      <td>1.126259e+09</td>\n",
       "      <td>294.234095</td>\n",
       "      <td>-31.032605</td>\n",
       "    </tr>\n",
       "    <tr>\n",
       "      <th>3</th>\n",
       "      <td>39.821903</td>\n",
       "      <td>33.583328</td>\n",
       "      <td>0.230132</td>\n",
       "      <td>0.038185</td>\n",
       "      <td>1.641406</td>\n",
       "      <td>1.491874</td>\n",
       "      <td>2.680203</td>\n",
       "      <td>2.930649</td>\n",
       "      <td>369.481309</td>\n",
       "      <td>-0.821372</td>\n",
       "      <td>2.600422</td>\n",
       "      <td>1.815630</td>\n",
       "      <td>1.337709</td>\n",
       "      <td>2.780453</td>\n",
       "      <td>1.126259e+09</td>\n",
       "      <td>294.609411</td>\n",
       "      <td>-29.584917</td>\n",
       "    </tr>\n",
       "    <tr>\n",
       "      <th>4</th>\n",
       "      <td>44.537785</td>\n",
       "      <td>29.532989</td>\n",
       "      <td>0.416360</td>\n",
       "      <td>0.454664</td>\n",
       "      <td>1.031570</td>\n",
       "      <td>1.735972</td>\n",
       "      <td>4.315577</td>\n",
       "      <td>1.231791</td>\n",
       "      <td>321.119735</td>\n",
       "      <td>-1.066414</td>\n",
       "      <td>2.342891</td>\n",
       "      <td>1.241840</td>\n",
       "      <td>0.543205</td>\n",
       "      <td>1.320119</td>\n",
       "      <td>1.126259e+09</td>\n",
       "      <td>294.887628</td>\n",
       "      <td>-30.349753</td>\n",
       "    </tr>\n",
       "    <tr>\n",
       "      <th>...</th>\n",
       "      <td>...</td>\n",
       "      <td>...</td>\n",
       "      <td>...</td>\n",
       "      <td>...</td>\n",
       "      <td>...</td>\n",
       "      <td>...</td>\n",
       "      <td>...</td>\n",
       "      <td>...</td>\n",
       "      <td>...</td>\n",
       "      <td>...</td>\n",
       "      <td>...</td>\n",
       "      <td>...</td>\n",
       "      <td>...</td>\n",
       "      <td>...</td>\n",
       "      <td>...</td>\n",
       "      <td>...</td>\n",
       "      <td>...</td>\n",
       "    </tr>\n",
       "    <tr>\n",
       "      <th>38712</th>\n",
       "      <td>37.360029</td>\n",
       "      <td>33.053774</td>\n",
       "      <td>0.122141</td>\n",
       "      <td>0.453887</td>\n",
       "      <td>1.151978</td>\n",
       "      <td>2.042149</td>\n",
       "      <td>3.924916</td>\n",
       "      <td>6.091390</td>\n",
       "      <td>346.976501</td>\n",
       "      <td>-1.135478</td>\n",
       "      <td>1.067815</td>\n",
       "      <td>2.646971</td>\n",
       "      <td>1.754797</td>\n",
       "      <td>4.276459</td>\n",
       "      <td>1.126259e+09</td>\n",
       "      <td>312.532831</td>\n",
       "      <td>-31.084417</td>\n",
       "    </tr>\n",
       "    <tr>\n",
       "      <th>38713</th>\n",
       "      <td>35.650953</td>\n",
       "      <td>33.029104</td>\n",
       "      <td>0.158171</td>\n",
       "      <td>0.586066</td>\n",
       "      <td>1.346129</td>\n",
       "      <td>2.160555</td>\n",
       "      <td>3.653862</td>\n",
       "      <td>0.690480</td>\n",
       "      <td>299.856955</td>\n",
       "      <td>-1.166962</td>\n",
       "      <td>1.100299</td>\n",
       "      <td>2.467721</td>\n",
       "      <td>1.071471</td>\n",
       "      <td>5.627657</td>\n",
       "      <td>1.126259e+09</td>\n",
       "      <td>312.623880</td>\n",
       "      <td>-31.133746</td>\n",
       "    </tr>\n",
       "    <tr>\n",
       "      <th>38714</th>\n",
       "      <td>35.650953</td>\n",
       "      <td>33.029104</td>\n",
       "      <td>0.158171</td>\n",
       "      <td>0.586066</td>\n",
       "      <td>1.346129</td>\n",
       "      <td>2.160555</td>\n",
       "      <td>3.653862</td>\n",
       "      <td>0.690480</td>\n",
       "      <td>299.856955</td>\n",
       "      <td>-1.166962</td>\n",
       "      <td>1.100299</td>\n",
       "      <td>2.467721</td>\n",
       "      <td>1.071471</td>\n",
       "      <td>5.627657</td>\n",
       "      <td>1.126259e+09</td>\n",
       "      <td>312.623880</td>\n",
       "      <td>-31.133746</td>\n",
       "    </tr>\n",
       "    <tr>\n",
       "      <th>38715</th>\n",
       "      <td>35.650953</td>\n",
       "      <td>33.029104</td>\n",
       "      <td>0.158171</td>\n",
       "      <td>0.586066</td>\n",
       "      <td>1.346129</td>\n",
       "      <td>2.160555</td>\n",
       "      <td>3.653862</td>\n",
       "      <td>0.690480</td>\n",
       "      <td>299.856955</td>\n",
       "      <td>-1.166962</td>\n",
       "      <td>1.100299</td>\n",
       "      <td>2.467721</td>\n",
       "      <td>1.071471</td>\n",
       "      <td>5.627657</td>\n",
       "      <td>1.126259e+09</td>\n",
       "      <td>312.623880</td>\n",
       "      <td>-31.133746</td>\n",
       "    </tr>\n",
       "    <tr>\n",
       "      <th>38716</th>\n",
       "      <td>35.650953</td>\n",
       "      <td>33.029104</td>\n",
       "      <td>0.158171</td>\n",
       "      <td>0.586066</td>\n",
       "      <td>1.346129</td>\n",
       "      <td>2.160555</td>\n",
       "      <td>3.653862</td>\n",
       "      <td>0.690480</td>\n",
       "      <td>299.856955</td>\n",
       "      <td>-1.166962</td>\n",
       "      <td>1.100299</td>\n",
       "      <td>2.467721</td>\n",
       "      <td>1.071471</td>\n",
       "      <td>5.627657</td>\n",
       "      <td>1.126259e+09</td>\n",
       "      <td>312.623880</td>\n",
       "      <td>-31.133746</td>\n",
       "    </tr>\n",
       "  </tbody>\n",
       "</table>\n",
       "<p>38717 rows × 17 columns</p>\n",
       "</div>"
      ],
      "text/plain": [
       "          mass_1     mass_2       a_1       a_2    tilt_1    tilt_2    phi_12  \\\n",
       "0      37.531558  36.923023  0.450124  0.728797  2.301996  0.816976  0.030900   \n",
       "1      41.380716  31.485215  0.653987  0.616770  1.002285  3.026669  2.573831   \n",
       "2      45.359448  36.604768  0.546921  0.166479  0.688618  1.031129  3.770140   \n",
       "3      39.821903  33.583328  0.230132  0.038185  1.641406  1.491874  2.680203   \n",
       "4      44.537785  29.532989  0.416360  0.454664  1.031570  1.735972  4.315577   \n",
       "...          ...        ...       ...       ...       ...       ...       ...   \n",
       "38712  37.360029  33.053774  0.122141  0.453887  1.151978  2.042149  3.924916   \n",
       "38713  35.650953  33.029104  0.158171  0.586066  1.346129  2.160555  3.653862   \n",
       "38714  35.650953  33.029104  0.158171  0.586066  1.346129  2.160555  3.653862   \n",
       "38715  35.650953  33.029104  0.158171  0.586066  1.346129  2.160555  3.653862   \n",
       "38716  35.650953  33.029104  0.158171  0.586066  1.346129  2.160555  3.653862   \n",
       "\n",
       "         phi_jl  luminosity_distance       dec        ra  theta_jn       psi  \\\n",
       "0      3.621868           509.999301 -1.154522  2.246389  0.787346  0.010705   \n",
       "1      0.044776           561.699524 -0.984151  2.496110  0.620445  1.084561   \n",
       "2      5.522815           336.060397 -1.228126  1.764072  1.419410  2.089572   \n",
       "3      2.930649           369.481309 -0.821372  2.600422  1.815630  1.337709   \n",
       "4      1.231791           321.119735 -1.066414  2.342891  1.241840  0.543205   \n",
       "...         ...                  ...       ...       ...       ...       ...   \n",
       "38712  6.091390           346.976501 -1.135478  1.067815  2.646971  1.754797   \n",
       "38713  0.690480           299.856955 -1.166962  1.100299  2.467721  1.071471   \n",
       "38714  0.690480           299.856955 -1.166962  1.100299  2.467721  1.071471   \n",
       "38715  0.690480           299.856955 -1.166962  1.100299  2.467721  1.071471   \n",
       "38716  0.690480           299.856955 -1.166962  1.100299  2.467721  1.071471   \n",
       "\n",
       "          phase  geocent_time  log_likelihood  log_prior  \n",
       "0      4.484531  1.126259e+09      292.749045 -30.506807  \n",
       "1      0.274235  1.126259e+09      293.680207 -31.966960  \n",
       "2      0.238803  1.126259e+09      294.234095 -31.032605  \n",
       "3      2.780453  1.126259e+09      294.609411 -29.584917  \n",
       "4      1.320119  1.126259e+09      294.887628 -30.349753  \n",
       "...         ...           ...             ...        ...  \n",
       "38712  4.276459  1.126259e+09      312.532831 -31.084417  \n",
       "38713  5.627657  1.126259e+09      312.623880 -31.133746  \n",
       "38714  5.627657  1.126259e+09      312.623880 -31.133746  \n",
       "38715  5.627657  1.126259e+09      312.623880 -31.133746  \n",
       "38716  5.627657  1.126259e+09      312.623880 -31.133746  \n",
       "\n",
       "[38717 rows x 17 columns]"
      ]
     },
     "execution_count": 13,
     "metadata": {},
     "output_type": "execute_result"
    }
   ],
   "source": [
    "result0.posterior"
   ]
  },
  {
   "cell_type": "code",
   "execution_count": 14,
   "metadata": {},
   "outputs": [],
   "source": [
    "mass1_values = result0.posterior['mass_1']"
   ]
  },
  {
   "cell_type": "code",
   "execution_count": 3,
   "metadata": {},
   "outputs": [
    {
     "ename": "NameError",
     "evalue": "name 'result0' is not defined",
     "output_type": "error",
     "traceback": [
      "\u001b[0;31m---------------------------------------------------------------------------\u001b[0m",
      "\u001b[0;31mNameError\u001b[0m                                 Traceback (most recent call last)",
      "\u001b[0;32m<ipython-input-3-9df10be5fd76>\u001b[0m in \u001b[0;36m<module>\u001b[0;34m\u001b[0m\n\u001b[0;32m----> 1\u001b[0;31m \u001b[0mdist\u001b[0m \u001b[0;34m=\u001b[0m \u001b[0mresult0\u001b[0m\u001b[0;34m.\u001b[0m\u001b[0mposterior\u001b[0m\u001b[0;34m[\u001b[0m\u001b[0;34m\"luminosity_distance\"\u001b[0m\u001b[0;34m]\u001b[0m\u001b[0;34m.\u001b[0m\u001b[0mvalues\u001b[0m\u001b[0;34m\u001b[0m\u001b[0;34m\u001b[0m\u001b[0m\n\u001b[0m",
      "\u001b[0;31mNameError\u001b[0m: name 'result0' is not defined"
     ]
    }
   ],
   "source": [
    "dist = result0.posterior[\"luminosity_distance\"].values\n"
   ]
  },
  {
   "cell_type": "code",
   "execution_count": 2,
   "metadata": {},
   "outputs": [
    {
     "ename": "NameError",
     "evalue": "name 'dist' is not defined",
     "output_type": "error",
     "traceback": [
      "\u001b[0;31m---------------------------------------------------------------------------\u001b[0m",
      "\u001b[0;31mNameError\u001b[0m                                 Traceback (most recent call last)",
      "\u001b[0;32m<ipython-input-2-259699d7d38c>\u001b[0m in \u001b[0;36m<module>\u001b[0;34m\u001b[0m\n\u001b[0;32m----> 1\u001b[0;31m \u001b[0mdist\u001b[0m\u001b[0;34m.\u001b[0m\u001b[0mshape\u001b[0m\u001b[0;34m\u001b[0m\u001b[0;34m\u001b[0m\u001b[0m\n\u001b[0m",
      "\u001b[0;31mNameError\u001b[0m: name 'dist' is not defined"
     ]
    }
   ],
   "source": [
    "dist.shape"
   ]
  },
  {
   "cell_type": "code",
   "execution_count": 22,
   "metadata": {},
   "outputs": [],
   "source": [
    "import corner"
   ]
  },
  {
   "cell_type": "code",
   "execution_count": 23,
   "metadata": {},
   "outputs": [
    {
     "data": {
      "image/png": "[encoded data removed]",
      "text/plain": [
       "<Figure size 244.8x244.8 with 1 Axes>"
      ]
     },
     "metadata": {
      "needs_background": "light"
     },
     "output_type": "display_data"
    }
   ],
   "source": [
    "figure = corner.corner(dist, labels = [r\"$D_{L}$\"], quantiles=[0.05,0.5, 0.9], show_titles= True, title_kwargs={\"fontsize\": 12})\n"
   ]
  },
  {
   "cell_type": "code",
   "execution_count": 24,
   "metadata": {},
   "outputs": [],
   "source": [
    "log_likelihood = result0.posterior['log_likelihood'].values"
   ]
  },
  {
   "cell_type": "code",
   "execution_count": 25,
   "metadata": {},
   "outputs": [
    {
     "data": {
      "text/plain": [
       "array([292.7490445 , 293.68020681, 294.23409455, ...,\n",
       "       312.62387971, 312.62387971, 312.62387971])"
      ]
     },
     "execution_count": 25,
     "metadata": {},
     "output_type": "execute_result"
    }
   ],
   "source": [
    "log_likelihood"
   ]
  },
  {
   "cell_type": "code",
   "execution_count": 26,
   "metadata": {},
   "outputs": [],
   "source": [
    "import matplotlib.pyplot as plt"
   ]
  },
  {
   "cell_type": "code",
   "execution_count": null,
   "metadata": {},
   "outputs": [],
   "source": []
  },
  {
   "cell_type": "code",
   "execution_count": null,
   "metadata": {},
   "outputs": [],
   "source": []
  }
 ],
 "metadata": {
  "kernelspec": {
   "display_name": "Python 3",
   "language": "python",
   "name": "python3"
  },
  "language_info": {
   "codemirror_mode": {
    "name": "ipython",
    "version": 3
   },
   "file_extension": ".py",
   "mimetype": "text/x-python",
   "name": "python",
   "nbconvert_exporter": "python",
   "pygments_lexer": "ipython3",
   "version": "3.6.9"
  }
 },
 "nbformat": 4,
 "nbformat_minor": 4
}
